{
 "cells": [
  {
   "cell_type": "markdown",
   "metadata": {},
   "source": [
    "# Caso Propuesto \n",
    "\n",
    "**Jose Julian Barrera Machado**"
   ]
  },
  {
   "cell_type": "markdown",
   "metadata": {},
   "source": [
    "# Importe de Librerias Necesarias\n",
    "\n",
    "Se importa las siguientes librerías necesarias para poder trabajar con los datos."
   ]
  },
  {
   "cell_type": "code",
   "execution_count": 2,
   "metadata": {},
   "outputs": [],
   "source": [
    "import pandas as pd #procesamiento de datos - dataframe\n",
    "import numpy as np #trabajar con arrays\n",
    "import seaborn as sns #visualización\n",
    "import matplotlib.pyplot as plt #visualización de graficas \n"
   ]
  },
  {
   "cell_type": "markdown",
   "metadata": {},
   "source": [
    "# Lectura de datos\n",
    "\n",
    "Se importa el archivo en formato “csv” o delimitado por comas, teniendo en cuenta que se encuentre en la misma carpeta de la data, con el siguiente código que creara una variable llamada ‘’’df’’ donde se almacenara todo el set de datos:\n"
   ]
  },
  {
   "cell_type": "code",
   "execution_count": 3,
   "metadata": {},
   "outputs": [],
   "source": [
    "df = pd.read_csv(\"Data_Caso_Propuesto.csv\", sep=\",\")"
   ]
  },
  {
   "cell_type": "markdown",
   "metadata": {},
   "source": [
    "## Identificacion de los datos \n",
    "\n",
    "Generamos el comando mostrado a continuación, donde nos mostrara información general del dataset, entre ellas el tipo de variables y el conteo de los valores no nulos. "
   ]
  },
  {
   "cell_type": "code",
   "execution_count": 5,
   "metadata": {},
   "outputs": [
    {
     "name": "stdout",
     "output_type": "stream",
     "text": [
      "<class 'pandas.core.frame.DataFrame'>\n",
      "RangeIndex: 463 entries, 0 to 462\n",
      "Data columns (total 12 columns):\n",
      " #   Column                  Non-Null Count  Dtype  \n",
      "---  ------                  --------------  -----  \n",
      " 0   Codigo                  463 non-null    int64  \n",
      " 1   Ciudad                  463 non-null    object \n",
      " 2   Departamento            463 non-null    object \n",
      " 3   Barrio                  40 non-null     object \n",
      " 4   Direccion               463 non-null    object \n",
      " 5   Area Terreno            463 non-null    float64\n",
      " 6   Area Construida         463 non-null    float64\n",
      " 7   Detalle Disponibilidad  463 non-null    object \n",
      " 8   Estrato                 463 non-null    object \n",
      " 9   Precio                  463 non-null    float64\n",
      " 10  Tipo de Inmueble        463 non-null    object \n",
      " 11  Datos Adicionales       118 non-null    object \n",
      "dtypes: float64(3), int64(1), object(8)\n",
      "memory usage: 43.5+ KB\n"
     ]
    }
   ],
   "source": [
    "df.info()"
   ]
  },
  {
   "cell_type": "markdown",
   "metadata": {},
   "source": [
    "como podemos observar el dataset cuenta con un total de 12 columnas y 463 registros.\n",
    "\n",
    "### Columnas numericas \n",
    "\n",
    "Area Terreno \n",
    "\n",
    "Area Construida\n",
    "\n",
    "Precio\n",
    "\n",
    "### Columnas categoricas\n",
    " \n",
    "Ciudad                  \n",
    "Departamento           \n",
    "Barrio                   \n",
    "Direccion               \n",
    "Detalle Disponibilidad   \n",
    "Estrato                 \n",
    "Tipo de Inmueble        \n",
    "Datos Adicionales \n"
   ]
  },
  {
   "cell_type": "markdown",
   "metadata": {},
   "source": [
    "## Identificacion de valores nulos de cada columna"
   ]
  },
  {
   "cell_type": "code",
   "execution_count": 6,
   "metadata": {},
   "outputs": [
    {
     "data": {
      "text/plain": [
       "Codigo                      0\n",
       "Ciudad                      0\n",
       "Departamento                0\n",
       "Barrio                    423\n",
       "Direccion                   0\n",
       "Area Terreno                0\n",
       "Area Construida             0\n",
       "Detalle Disponibilidad      0\n",
       "Estrato                     0\n",
       "Precio                      0\n",
       "Tipo de Inmueble            0\n",
       "Datos Adicionales         345\n",
       "dtype: int64"
      ]
     },
     "execution_count": 6,
     "metadata": {},
     "output_type": "execute_result"
    }
   ],
   "source": [
    "df.isnull().sum()"
   ]
  },
  {
   "cell_type": "markdown",
   "metadata": {},
   "source": [
    "Se puede observar que las variables \"Barrio\" y \"Datos Adicionales\" en su gran mayoria cuentan con valores nulos, por lo cual se procede a eliminar dichas columnas directamente."
   ]
  },
  {
   "cell_type": "markdown",
   "metadata": {},
   "source": [
    "**Eliminación de valores nulos**"
   ]
  },
  {
   "cell_type": "code",
   "execution_count": 7,
   "metadata": {},
   "outputs": [],
   "source": [
    "df=df.drop([\"Barrio\"], axis=1)\n",
    "df=df.drop([\"Datos Adicionales\"], axis=1)"
   ]
  },
  {
   "cell_type": "markdown",
   "metadata": {},
   "source": [
    "## Identificacion de valores duplicados\n",
    "Se genero una nueva variable llamada ‘’dup’’ que almacenara la cantidad de valores duplicados, en este caso no encontró ninguno.  "
   ]
  },
  {
   "cell_type": "code",
   "execution_count": 8,
   "metadata": {},
   "outputs": [
    {
     "name": "stdout",
     "output_type": "stream",
     "text": [
      " La base de datos tiene 0 valores duplicados.\n"
     ]
    }
   ],
   "source": [
    "dup = df.duplicated().sum() #Análisis de valores duplicados\n",
    "print(\" La base de datos tiene \"+ str(dup) +\" valores duplicados.\")"
   ]
  },
  {
   "cell_type": "markdown",
   "metadata": {},
   "source": [
    "## Conteo de valores Cero\n",
    "\n",
    "Para esta parte se hizo una suma de todos los valores cero por medio de un condicional, también se utilizo una gráfica de barras"
   ]
  },
  {
   "cell_type": "code",
   "execution_count": 9,
   "metadata": {},
   "outputs": [
    {
     "data": {
      "image/png": "[encoded data removed]",
      "text/plain": [
       "<Figure size 1080x360 with 1 Axes>"
      ]
     },
     "metadata": {
      "needs_background": "light"
     },
     "output_type": "display_data"
    },
    {
     "name": "stdout",
     "output_type": "stream",
     "text": [
      "Codigo                      0\n",
      "Ciudad                      0\n",
      "Departamento                0\n",
      "Direccion                   0\n",
      "Area Terreno              445\n",
      "Area Construida           453\n",
      "Detalle Disponibilidad      0\n",
      "Estrato                     0\n",
      "Precio                      0\n",
      "Tipo de Inmueble            0\n",
      "dtype: int64\n"
     ]
    }
   ],
   "source": [
    "Cero_Cont = (df==0).sum()\n",
    "Cero_Cont.plot(kind= \"bar\", figsize=(15, 5))\n",
    "plt.show()\n",
    "print(Cero_Cont)"
   ]
  },
  {
   "cell_type": "markdown",
   "metadata": {},
   "source": [
    "Se puede observar que las variables \"Area Terreno\" y \"Area Construida\" en su gran mayoria tienen valores en cero, por lo cual se procede a eliminarlas."
   ]
  },
  {
   "cell_type": "markdown",
   "metadata": {},
   "source": [
    "**Eliminación de valores en cero**"
   ]
  },
  {
   "cell_type": "code",
   "execution_count": 10,
   "metadata": {},
   "outputs": [],
   "source": [
    "df=df.drop([\"Area Terreno\"], axis=1)\n",
    "df=df.drop([\"Area Construida\"], axis=1)"
   ]
  },
  {
   "cell_type": "markdown",
   "metadata": {},
   "source": [
    "### Inspección de los posibles outliers\n",
    "\n",
    "En el siguiente grafico se muestra como se ven datos que se encuentras bastante alejados de donde se estan agrupando los demas, eso quiere decir que pueden ser valores aislados aunque no se puede afirmar sin una inspeccion mas tecnica"
   ]
  },
  {
   "cell_type": "code",
   "execution_count": 11,
   "metadata": {},
   "outputs": [
    {
     "data": {
      "image/png": "[encoded data removed]",
      "text/plain": [
       "<Figure size 432x288 with 1 Axes>"
      ]
     },
     "metadata": {
      "needs_background": "light"
     },
     "output_type": "display_data"
    }
   ],
   "source": [
    "plt.boxplot(df['Precio'])\n",
    "plt.title(\"Precio\")\n",
    "plt.show()"
   ]
  },
  {
   "cell_type": "markdown",
   "metadata": {},
   "source": [
    "#### El dataset queda de la siguiente manera"
   ]
  },
  {
   "cell_type": "code",
   "execution_count": 12,
   "metadata": {},
   "outputs": [
    {
     "name": "stdout",
     "output_type": "stream",
     "text": [
      "<class 'pandas.core.frame.DataFrame'>\n",
      "RangeIndex: 463 entries, 0 to 462\n",
      "Data columns (total 8 columns):\n",
      " #   Column                  Non-Null Count  Dtype  \n",
      "---  ------                  --------------  -----  \n",
      " 0   Codigo                  463 non-null    int64  \n",
      " 1   Ciudad                  463 non-null    object \n",
      " 2   Departamento            463 non-null    object \n",
      " 3   Direccion               463 non-null    object \n",
      " 4   Detalle Disponibilidad  463 non-null    object \n",
      " 5   Estrato                 463 non-null    object \n",
      " 6   Precio                  463 non-null    float64\n",
      " 7   Tipo de Inmueble        463 non-null    object \n",
      "dtypes: float64(1), int64(1), object(6)\n",
      "memory usage: 29.1+ KB\n"
     ]
    }
   ],
   "source": [
    "df.info()"
   ]
  },
  {
   "cell_type": "markdown",
   "metadata": {},
   "source": [
    "# Entendimiento de los datos"
   ]
  },
  {
   "cell_type": "markdown",
   "metadata": {},
   "source": [
    "### Tipo de inmuebles mas comunes (top 10)\n",
    "Se genera un grafico de barras con el top de los tipos de inmuebles más comunes, para para tener en cuenta cual es el que mas se tiene. "
   ]
  },
  {
   "cell_type": "code",
   "execution_count": 13,
   "metadata": {},
   "outputs": [
    {
     "data": {
      "text/plain": [
       "LOCAL                    305\n",
       "LOTE VIVIENDA             48\n",
       "BODEGA                    23\n",
       "OFICINA                   17\n",
       "CASA                      17\n",
       "LOTE CON CONSTRUCCION     15\n",
       "FINCA                     10\n",
       "APARTAMENTO                7\n",
       "EDIFICIO                   4\n",
       "LOTE MIXTO                 3\n",
       "Name: Tipo de Inmueble, dtype: int64"
      ]
     },
     "execution_count": 13,
     "metadata": {},
     "output_type": "execute_result"
    },
    {
     "data": {
      "image/png": "[encoded data removed]",
      "text/plain": [
       "<Figure size 1080x360 with 1 Axes>"
      ]
     },
     "metadata": {
      "needs_background": "light"
     },
     "output_type": "display_data"
    }
   ],
   "source": [
    "ti=df['Tipo de Inmueble'].value_counts()\n",
    "### subplots ti\n",
    "y=ti.values[0:10]\n",
    "x=ti.index[0:10]\n",
    "fig, ax = plt.subplots(figsize=(15, 5))\n",
    "ax.barh(x, y)\n",
    "\n",
    "ax.set_title('Tipo de Inmueble')  \n",
    "ti[0:10] "
   ]
  },
  {
   "cell_type": "markdown",
   "metadata": {},
   "source": [
    "### Promedio de  Precio Segun el tipo de inmueble\n",
    "Se genera otra grafica para ver cual tipo de inmueble tiene en promedio el mejor precio."
   ]
  },
  {
   "cell_type": "code",
   "execution_count": 14,
   "metadata": {},
   "outputs": [
    {
     "data": {
      "text/plain": [
       "Tipo de Inmueble\n",
       "APARTAMENTO          5.812427e+08\n",
       "BODEGA               2.251648e+09\n",
       "CASA                 7.952695e+08\n",
       "CLINICA              8.850014e+09\n",
       "DEPOSITO             7.152000e+06\n",
       "EDIFICIO             8.798400e+09\n",
       "EDIFICIO OFICINAS    1.935725e+09\n",
       "FINCA                2.561625e+09\n",
       "GARAJE               2.908356e+07\n",
       "HOTEL                1.040734e+10\n",
       "Name: Precio, dtype: float64"
      ]
     },
     "execution_count": 14,
     "metadata": {},
     "output_type": "execute_result"
    },
    {
     "data": {
      "image/png": "[encoded data removed]",
      "text/plain": [
       "<Figure size 1080x360 with 1 Axes>"
      ]
     },
     "metadata": {
      "needs_background": "light"
     },
     "output_type": "display_data"
    }
   ],
   "source": [
    "\n",
    "total_InmuebleP = df['Precio'].groupby(df['Tipo de Inmueble']).mean()\n",
    "total_InmuebleP[0:10].plot(kind= \"bar\", figsize=(15, 5))\n",
    "total_InmuebleP[0:10]"
   ]
  },
  {
   "cell_type": "markdown",
   "metadata": {},
   "source": [
    "### Valor promedio segun el estrato"
   ]
  },
  {
   "cell_type": "code",
   "execution_count": 15,
   "metadata": {},
   "outputs": [
    {
     "data": {
      "text/plain": [
       "Estrato\n",
       "CINCO         1.278927e+09\n",
       "COMERCIAL     2.555727e+08\n",
       "CUATRO        1.082890e+09\n",
       "DOS           3.364024e+08\n",
       "INDUSTRIAL    2.646415e+09\n",
       "RURAL         2.450882e+09\n",
       "SEIS          4.014502e+08\n",
       "TRES          2.335573e+09\n",
       "UNO           4.438472e+07\n",
       "Name: Precio, dtype: float64"
      ]
     },
     "execution_count": 15,
     "metadata": {},
     "output_type": "execute_result"
    },
    {
     "data": {
      "image/png": "[encoded data removed]",
      "text/plain": [
       "<Figure size 1080x720 with 1 Axes>"
      ]
     },
     "metadata": {
      "needs_background": "light"
     },
     "output_type": "display_data"
    }
   ],
   "source": [
    "total_Precio_Estrato = df['Precio'].groupby(df['Estrato']).mean()\n",
    "total_Precio_Estrato.plot(kind= \"bar\", figsize=(15, 10))\n",
    "total_Precio_Estrato"
   ]
  },
  {
   "cell_type": "markdown",
   "metadata": {},
   "source": [
    "### Ciudades con mas tipos de inmuebles\n",
    "\n",
    "Se muestra el top 10 de ciudades con más tipos de inmuebles "
   ]
  },
  {
   "cell_type": "code",
   "execution_count": 16,
   "metadata": {},
   "outputs": [
    {
     "data": {
      "text/plain": [
       "VILLAVICENCIO       290\n",
       "BOGOTA               23\n",
       "CARTAGENA            18\n",
       "BARRANQUILLA         17\n",
       "PACORA               16\n",
       "PEREIRA              14\n",
       "CALI                 10\n",
       "CALIMA EL DARIEN     10\n",
       "TARAZA               10\n",
       "MEDELLIN              6\n",
       "Name: Ciudad, dtype: int64"
      ]
     },
     "execution_count": 16,
     "metadata": {},
     "output_type": "execute_result"
    },
    {
     "data": {
      "image/png": "[encoded data removed]",
      "text/plain": [
       "<Figure size 1080x720 with 1 Axes>"
      ]
     },
     "metadata": {},
     "output_type": "display_data"
    }
   ],
   "source": [
    "\n",
    "ciudad_Ti_vender = df['Ciudad'].value_counts()\n",
    "ciudad_Ti_vender[0:10].plot(kind= \"pie\", figsize=(15, 10),autopct='%.1f%%')\n",
    "ciudad_Ti_vender[0:10]"
   ]
  },
  {
   "cell_type": "markdown",
   "metadata": {},
   "source": [
    "## Creacion de nuevas variables nuevas usando One-Hot Encoding"
   ]
  },
  {
   "cell_type": "code",
   "execution_count": 17,
   "metadata": {},
   "outputs": [],
   "source": [
    "dfN=df\n",
    "tipoInmueble=pd.get_dummies(dfN[\"Tipo de Inmueble\"])\n",
    "dfN = pd.concat([dfN, tipoInmueble], axis=1) \n",
    "\n",
    "detalleDisponibilidad=pd.get_dummies(dfN[\"Detalle Disponibilidad\"])\n",
    "dfN = pd.concat([dfN, detalleDisponibilidad], axis=1) \n",
    "\n",
    "ciudad=pd.get_dummies(dfN[\"Ciudad\"])\n",
    "dfN = pd.concat([dfN, ciudad], axis=1) \n",
    "\n",
    "depto=pd.get_dummies(dfN[\"Departamento\"])\n",
    "dfN = pd.concat([dfN, depto], axis=1) \n",
    "\n",
    "estrato=pd.get_dummies(dfN[\"Estrato\"])\n",
    "dfN = pd.concat([dfN, estrato], axis=1) \n"
   ]
  },
  {
   "cell_type": "markdown",
   "metadata": {},
   "source": [
    "### Quedando de la siguiente manera"
   ]
  },
  {
   "cell_type": "code",
   "execution_count": 18,
   "metadata": {},
   "outputs": [
    {
     "data": {
      "text/html": [
       "<div>\n",
       "<style scoped>\n",
       "    .dataframe tbody tr th:only-of-type {\n",
       "        vertical-align: middle;\n",
       "    }\n",
       "\n",
       "    .dataframe tbody tr th {\n",
       "        vertical-align: top;\n",
       "    }\n",
       "\n",
       "    .dataframe thead th {\n",
       "        text-align: right;\n",
       "    }\n",
       "</style>\n",
       "<table border=\"1\" class=\"dataframe\">\n",
       "  <thead>\n",
       "    <tr style=\"text-align: right;\">\n",
       "      <th></th>\n",
       "      <th>Codigo</th>\n",
       "      <th>Ciudad</th>\n",
       "      <th>Departamento</th>\n",
       "      <th>Direccion</th>\n",
       "      <th>Detalle Disponibilidad</th>\n",
       "      <th>Estrato</th>\n",
       "      <th>Precio</th>\n",
       "      <th>Tipo de Inmueble</th>\n",
       "      <th>APARTAMENTO</th>\n",
       "      <th>BODEGA</th>\n",
       "      <th>...</th>\n",
       "      <th>VALLE DEL CAUCA</th>\n",
       "      <th>CINCO</th>\n",
       "      <th>COMERCIAL</th>\n",
       "      <th>CUATRO</th>\n",
       "      <th>DOS</th>\n",
       "      <th>INDUSTRIAL</th>\n",
       "      <th>RURAL</th>\n",
       "      <th>SEIS</th>\n",
       "      <th>TRES</th>\n",
       "      <th>UNO</th>\n",
       "    </tr>\n",
       "  </thead>\n",
       "  <tbody>\n",
       "    <tr>\n",
       "      <th>0</th>\n",
       "      <td>17180</td>\n",
       "      <td>BOGOTA</td>\n",
       "      <td>CUNDINAMARCA</td>\n",
       "      <td>AV CR 7 NO. 166 - 51 LT B</td>\n",
       "      <td>COMERCIALIZABLE CON RESTRICCION</td>\n",
       "      <td>TRES</td>\n",
       "      <td>2.958081e+10</td>\n",
       "      <td>LOTE COMERCIAL</td>\n",
       "      <td>0</td>\n",
       "      <td>0</td>\n",
       "      <td>...</td>\n",
       "      <td>0</td>\n",
       "      <td>0</td>\n",
       "      <td>0</td>\n",
       "      <td>0</td>\n",
       "      <td>0</td>\n",
       "      <td>0</td>\n",
       "      <td>0</td>\n",
       "      <td>0</td>\n",
       "      <td>1</td>\n",
       "      <td>0</td>\n",
       "    </tr>\n",
       "    <tr>\n",
       "      <th>1</th>\n",
       "      <td>19292</td>\n",
       "      <td>BOGOTA</td>\n",
       "      <td>CUNDINAMARCA</td>\n",
       "      <td>CL 72 No. 12 - 77</td>\n",
       "      <td>COMERCIALIZABLE</td>\n",
       "      <td>COMERCIAL</td>\n",
       "      <td>1.646059e+10</td>\n",
       "      <td>EDIFICIO</td>\n",
       "      <td>0</td>\n",
       "      <td>0</td>\n",
       "      <td>...</td>\n",
       "      <td>0</td>\n",
       "      <td>0</td>\n",
       "      <td>1</td>\n",
       "      <td>0</td>\n",
       "      <td>0</td>\n",
       "      <td>0</td>\n",
       "      <td>0</td>\n",
       "      <td>0</td>\n",
       "      <td>0</td>\n",
       "      <td>0</td>\n",
       "    </tr>\n",
       "    <tr>\n",
       "      <th>2</th>\n",
       "      <td>19292</td>\n",
       "      <td>BOGOTA</td>\n",
       "      <td>CUNDINAMARCA</td>\n",
       "      <td>CL 72 No. 12 - 77</td>\n",
       "      <td>COMERCIALIZABLE VENTA ANTICIPADA</td>\n",
       "      <td>COMERCIAL</td>\n",
       "      <td>1.646059e+10</td>\n",
       "      <td>EDIFICIO</td>\n",
       "      <td>0</td>\n",
       "      <td>0</td>\n",
       "      <td>...</td>\n",
       "      <td>0</td>\n",
       "      <td>0</td>\n",
       "      <td>1</td>\n",
       "      <td>0</td>\n",
       "      <td>0</td>\n",
       "      <td>0</td>\n",
       "      <td>0</td>\n",
       "      <td>0</td>\n",
       "      <td>0</td>\n",
       "      <td>0</td>\n",
       "    </tr>\n",
       "    <tr>\n",
       "      <th>3</th>\n",
       "      <td>2575</td>\n",
       "      <td>SOGAMOSO</td>\n",
       "      <td>BOYACÁ</td>\n",
       "      <td>CRA. 10 #11- 78/80 Ó CL 12 # 9 - 77/85 Ó CALLE...</td>\n",
       "      <td>COMERCIALIZABLE CON RESTRICCION</td>\n",
       "      <td>CUATRO</td>\n",
       "      <td>1.376828e+10</td>\n",
       "      <td>CLINICA</td>\n",
       "      <td>0</td>\n",
       "      <td>0</td>\n",
       "      <td>...</td>\n",
       "      <td>0</td>\n",
       "      <td>0</td>\n",
       "      <td>0</td>\n",
       "      <td>1</td>\n",
       "      <td>0</td>\n",
       "      <td>0</td>\n",
       "      <td>0</td>\n",
       "      <td>0</td>\n",
       "      <td>0</td>\n",
       "      <td>0</td>\n",
       "    </tr>\n",
       "    <tr>\n",
       "      <th>4</th>\n",
       "      <td>11409</td>\n",
       "      <td>BUGA</td>\n",
       "      <td>VALLE DEL CAUCA</td>\n",
       "      <td>LT A1-A24 B1-B79 C1-C51 D1-D9 STA ROSA LT1-46 ...</td>\n",
       "      <td>COMERCIALIZABLE FIDUCIA</td>\n",
       "      <td>RURAL</td>\n",
       "      <td>4.523379e+10</td>\n",
       "      <td>LOTE MIXTO</td>\n",
       "      <td>0</td>\n",
       "      <td>0</td>\n",
       "      <td>...</td>\n",
       "      <td>1</td>\n",
       "      <td>0</td>\n",
       "      <td>0</td>\n",
       "      <td>0</td>\n",
       "      <td>0</td>\n",
       "      <td>0</td>\n",
       "      <td>1</td>\n",
       "      <td>0</td>\n",
       "      <td>0</td>\n",
       "      <td>0</td>\n",
       "    </tr>\n",
       "  </tbody>\n",
       "</table>\n",
       "<p>5 rows × 99 columns</p>\n",
       "</div>"
      ],
      "text/plain": [
       "   Codigo    Ciudad     Departamento  \\\n",
       "0   17180    BOGOTA     CUNDINAMARCA   \n",
       "1   19292    BOGOTA     CUNDINAMARCA   \n",
       "2   19292    BOGOTA     CUNDINAMARCA   \n",
       "3    2575  SOGAMOSO           BOYACÁ   \n",
       "4   11409      BUGA  VALLE DEL CAUCA   \n",
       "\n",
       "                                           Direccion  \\\n",
       "0                          AV CR 7 NO. 166 - 51 LT B   \n",
       "1                                  CL 72 No. 12 - 77   \n",
       "2                                  CL 72 No. 12 - 77   \n",
       "3  CRA. 10 #11- 78/80 Ó CL 12 # 9 - 77/85 Ó CALLE...   \n",
       "4  LT A1-A24 B1-B79 C1-C51 D1-D9 STA ROSA LT1-46 ...   \n",
       "\n",
       "             Detalle Disponibilidad    Estrato        Precio Tipo de Inmueble  \\\n",
       "0   COMERCIALIZABLE CON RESTRICCION       TRES  2.958081e+10   LOTE COMERCIAL   \n",
       "1                   COMERCIALIZABLE  COMERCIAL  1.646059e+10         EDIFICIO   \n",
       "2  COMERCIALIZABLE VENTA ANTICIPADA  COMERCIAL  1.646059e+10         EDIFICIO   \n",
       "3   COMERCIALIZABLE CON RESTRICCION     CUATRO  1.376828e+10          CLINICA   \n",
       "4           COMERCIALIZABLE FIDUCIA      RURAL  4.523379e+10       LOTE MIXTO   \n",
       "\n",
       "   APARTAMENTO  BODEGA  ...  VALLE DEL CAUCA  CINCO  COMERCIAL  CUATRO  DOS  \\\n",
       "0            0       0  ...                0      0          0       0    0   \n",
       "1            0       0  ...                0      0          1       0    0   \n",
       "2            0       0  ...                0      0          1       0    0   \n",
       "3            0       0  ...                0      0          0       1    0   \n",
       "4            0       0  ...                1      0          0       0    0   \n",
       "\n",
       "   INDUSTRIAL  RURAL  SEIS  TRES  UNO  \n",
       "0           0      0     0     1    0  \n",
       "1           0      0     0     0    0  \n",
       "2           0      0     0     0    0  \n",
       "3           0      0     0     0    0  \n",
       "4           0      1     0     0    0  \n",
       "\n",
       "[5 rows x 99 columns]"
      ]
     },
     "execution_count": 18,
     "metadata": {},
     "output_type": "execute_result"
    }
   ],
   "source": [
    "dfN.head()"
   ]
  },
  {
   "cell_type": "markdown",
   "metadata": {},
   "source": [
    "### Eliminacion de variables categoricas "
   ]
  },
  {
   "cell_type": "code",
   "execution_count": 19,
   "metadata": {},
   "outputs": [
    {
     "data": {
      "text/html": [
       "<div>\n",
       "<style scoped>\n",
       "    .dataframe tbody tr th:only-of-type {\n",
       "        vertical-align: middle;\n",
       "    }\n",
       "\n",
       "    .dataframe tbody tr th {\n",
       "        vertical-align: top;\n",
       "    }\n",
       "\n",
       "    .dataframe thead th {\n",
       "        text-align: right;\n",
       "    }\n",
       "</style>\n",
       "<table border=\"1\" class=\"dataframe\">\n",
       "  <thead>\n",
       "    <tr style=\"text-align: right;\">\n",
       "      <th></th>\n",
       "      <th>Precio</th>\n",
       "      <th>APARTAMENTO</th>\n",
       "      <th>BODEGA</th>\n",
       "      <th>CASA</th>\n",
       "      <th>CLINICA</th>\n",
       "      <th>DEPOSITO</th>\n",
       "      <th>EDIFICIO</th>\n",
       "      <th>EDIFICIO OFICINAS</th>\n",
       "      <th>FINCA</th>\n",
       "      <th>GARAJE</th>\n",
       "      <th>...</th>\n",
       "      <th>VALLE DEL CAUCA</th>\n",
       "      <th>CINCO</th>\n",
       "      <th>COMERCIAL</th>\n",
       "      <th>CUATRO</th>\n",
       "      <th>DOS</th>\n",
       "      <th>INDUSTRIAL</th>\n",
       "      <th>RURAL</th>\n",
       "      <th>SEIS</th>\n",
       "      <th>TRES</th>\n",
       "      <th>UNO</th>\n",
       "    </tr>\n",
       "  </thead>\n",
       "  <tbody>\n",
       "    <tr>\n",
       "      <th>0</th>\n",
       "      <td>2.958081e+10</td>\n",
       "      <td>0</td>\n",
       "      <td>0</td>\n",
       "      <td>0</td>\n",
       "      <td>0</td>\n",
       "      <td>0</td>\n",
       "      <td>0</td>\n",
       "      <td>0</td>\n",
       "      <td>0</td>\n",
       "      <td>0</td>\n",
       "      <td>...</td>\n",
       "      <td>0</td>\n",
       "      <td>0</td>\n",
       "      <td>0</td>\n",
       "      <td>0</td>\n",
       "      <td>0</td>\n",
       "      <td>0</td>\n",
       "      <td>0</td>\n",
       "      <td>0</td>\n",
       "      <td>1</td>\n",
       "      <td>0</td>\n",
       "    </tr>\n",
       "    <tr>\n",
       "      <th>1</th>\n",
       "      <td>1.646059e+10</td>\n",
       "      <td>0</td>\n",
       "      <td>0</td>\n",
       "      <td>0</td>\n",
       "      <td>0</td>\n",
       "      <td>0</td>\n",
       "      <td>1</td>\n",
       "      <td>0</td>\n",
       "      <td>0</td>\n",
       "      <td>0</td>\n",
       "      <td>...</td>\n",
       "      <td>0</td>\n",
       "      <td>0</td>\n",
       "      <td>1</td>\n",
       "      <td>0</td>\n",
       "      <td>0</td>\n",
       "      <td>0</td>\n",
       "      <td>0</td>\n",
       "      <td>0</td>\n",
       "      <td>0</td>\n",
       "      <td>0</td>\n",
       "    </tr>\n",
       "    <tr>\n",
       "      <th>2</th>\n",
       "      <td>1.646059e+10</td>\n",
       "      <td>0</td>\n",
       "      <td>0</td>\n",
       "      <td>0</td>\n",
       "      <td>0</td>\n",
       "      <td>0</td>\n",
       "      <td>1</td>\n",
       "      <td>0</td>\n",
       "      <td>0</td>\n",
       "      <td>0</td>\n",
       "      <td>...</td>\n",
       "      <td>0</td>\n",
       "      <td>0</td>\n",
       "      <td>1</td>\n",
       "      <td>0</td>\n",
       "      <td>0</td>\n",
       "      <td>0</td>\n",
       "      <td>0</td>\n",
       "      <td>0</td>\n",
       "      <td>0</td>\n",
       "      <td>0</td>\n",
       "    </tr>\n",
       "    <tr>\n",
       "      <th>3</th>\n",
       "      <td>1.376828e+10</td>\n",
       "      <td>0</td>\n",
       "      <td>0</td>\n",
       "      <td>0</td>\n",
       "      <td>1</td>\n",
       "      <td>0</td>\n",
       "      <td>0</td>\n",
       "      <td>0</td>\n",
       "      <td>0</td>\n",
       "      <td>0</td>\n",
       "      <td>...</td>\n",
       "      <td>0</td>\n",
       "      <td>0</td>\n",
       "      <td>0</td>\n",
       "      <td>1</td>\n",
       "      <td>0</td>\n",
       "      <td>0</td>\n",
       "      <td>0</td>\n",
       "      <td>0</td>\n",
       "      <td>0</td>\n",
       "      <td>0</td>\n",
       "    </tr>\n",
       "    <tr>\n",
       "      <th>4</th>\n",
       "      <td>4.523379e+10</td>\n",
       "      <td>0</td>\n",
       "      <td>0</td>\n",
       "      <td>0</td>\n",
       "      <td>0</td>\n",
       "      <td>0</td>\n",
       "      <td>0</td>\n",
       "      <td>0</td>\n",
       "      <td>0</td>\n",
       "      <td>0</td>\n",
       "      <td>...</td>\n",
       "      <td>1</td>\n",
       "      <td>0</td>\n",
       "      <td>0</td>\n",
       "      <td>0</td>\n",
       "      <td>0</td>\n",
       "      <td>0</td>\n",
       "      <td>1</td>\n",
       "      <td>0</td>\n",
       "      <td>0</td>\n",
       "      <td>0</td>\n",
       "    </tr>\n",
       "  </tbody>\n",
       "</table>\n",
       "<p>5 rows × 92 columns</p>\n",
       "</div>"
      ],
      "text/plain": [
       "         Precio  APARTAMENTO  BODEGA  CASA  CLINICA  DEPOSITO  EDIFICIO  \\\n",
       "0  2.958081e+10            0       0     0        0         0         0   \n",
       "1  1.646059e+10            0       0     0        0         0         1   \n",
       "2  1.646059e+10            0       0     0        0         0         1   \n",
       "3  1.376828e+10            0       0     0        1         0         0   \n",
       "4  4.523379e+10            0       0     0        0         0         0   \n",
       "\n",
       "   EDIFICIO OFICINAS  FINCA  GARAJE  ...  VALLE DEL CAUCA  CINCO  COMERCIAL  \\\n",
       "0                  0      0       0  ...                0      0          0   \n",
       "1                  0      0       0  ...                0      0          1   \n",
       "2                  0      0       0  ...                0      0          1   \n",
       "3                  0      0       0  ...                0      0          0   \n",
       "4                  0      0       0  ...                1      0          0   \n",
       "\n",
       "   CUATRO  DOS  INDUSTRIAL  RURAL  SEIS  TRES  UNO  \n",
       "0       0    0           0      0     0     1    0  \n",
       "1       0    0           0      0     0     0    0  \n",
       "2       0    0           0      0     0     0    0  \n",
       "3       1    0           0      0     0     0    0  \n",
       "4       0    0           0      1     0     0    0  \n",
       "\n",
       "[5 rows x 92 columns]"
      ]
     },
     "execution_count": 19,
     "metadata": {},
     "output_type": "execute_result"
    }
   ],
   "source": [
    "dfN=dfN.iloc[:, 6:118]\n",
    "dfN=dfN.drop([\"Tipo de Inmueble\"], axis=1) \n",
    "dfN.head()"
   ]
  },
  {
   "cell_type": "markdown",
   "metadata": {},
   "source": [
    "## Análisis Univariado."
   ]
  },
  {
   "cell_type": "code",
   "execution_count": 20,
   "metadata": {},
   "outputs": [
    {
     "name": "stderr",
     "output_type": "stream",
     "text": [
      "c:\\ProgramData\\Anaconda3\\lib\\site-packages\\seaborn\\distributions.py:2619: FutureWarning: `distplot` is a deprecated function and will be removed in a future version. Please adapt your code to use either `displot` (a figure-level function with similar flexibility) or `histplot` (an axes-level function for histograms).\n",
      "  warnings.warn(msg, FutureWarning)\n"
     ]
    },
    {
     "data": {
      "image/png": "[encoded data removed]",
      "text/plain": [
       "<Figure size 1080x360 with 1 Axes>"
      ]
     },
     "metadata": {
      "needs_background": "light"
     },
     "output_type": "display_data"
    },
    {
     "name": "stdout",
     "output_type": "stream",
     "text": [
      "count    4.630000e+02\n",
      "mean     6.672032e+08\n",
      "std      3.272992e+09\n",
      "min      4.650000e+06\n",
      "25%      1.230500e+07\n",
      "50%      1.587000e+07\n",
      "75%      1.379955e+08\n",
      "max      4.523379e+10\n",
      "Name: Precio, dtype: float64\n"
     ]
    }
   ],
   "source": [
    "tag1= \"Precio\"\n",
    "plt.figure(figsize=(15, 5))\n",
    "sns.distplot(df[tag1], kde_kws= {\"color\":\"r\"})\n",
    "plt.show()\n",
    "print(df[tag1].describe())"
   ]
  },
  {
   "cell_type": "markdown",
   "metadata": {},
   "source": [
    "## Análisis estadisticos básicos\n",
    "\n",
    "En esta parte se analiza las variables con el fin de llegar a una compresión más idónea del comportamiento de estas e intersectar alguna complicación que lleguen a presentar."
   ]
  },
  {
   "cell_type": "code",
   "execution_count": null,
   "metadata": {},
   "outputs": [],
   "source": []
  }
 ],
 "metadata": {
  "kernelspec": {
   "display_name": "Python 3 (ipykernel)",
   "language": "python",
   "name": "python3"
  },
  "language_info": {
   "codemirror_mode": {
    "name": "ipython",
    "version": 3
   },
   "file_extension": ".py",
   "mimetype": "text/x-python",
   "name": "python",
   "nbconvert_exporter": "python",
   "pygments_lexer": "ipython3",
   "version": "3.9.12"
  },
  "vscode": {
   "interpreter": {
    "hash": "ad2bdc8ecc057115af97d19610ffacc2b4e99fae6737bb82f5d7fb13d2f2c186"
   }
  }
 },
 "nbformat": 4,
 "nbformat_minor": 2
}
