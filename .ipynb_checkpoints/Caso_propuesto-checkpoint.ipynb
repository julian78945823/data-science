{
 "cells": [
  {
   "cell_type": "markdown",
   "id": "61dfeb55",
   "metadata": {},
   "source": [
    "# Importe de Librerias Necesarias"
   ]
  },
  {
   "cell_type": "code",
   "execution_count": 1,
   "id": "502e7493",
   "metadata": {},
   "outputs": [],
   "source": [
    "import pandas as pd #procesamiento de datos - dataframe\n",
    "import numpy as np #trabajar con arrays\n",
    "import seaborn as sns #visualización\n",
    "import matplotlib.pyplot as plt #visualización de graficas"
   ]
  },
  {
   "cell_type": "markdown",
   "id": "b23ead9c",
   "metadata": {},
   "source": [
    "# Lectura de datos\n",
    "\n",
    "\n",
    "Se impota el archivo en formato 'csv' con el siguiente comando"
   ]
  },
  {
   "cell_type": "code",
   "execution_count": 2,
   "id": "e9c8d45a",
   "metadata": {},
   "outputs": [],
   "source": [
    "df = pd.read_csv(\"Data_Caso_Propuesto.csv\", sep=\",\")"
   ]
  },
  {
   "cell_type": "markdown",
   "id": "550aabf7",
   "metadata": {},
   "source": [
    "# identificacion de los datos "
   ]
  },
  {
   "cell_type": "code",
   "execution_count": 3,
   "id": "e0fb41d1",
   "metadata": {
    "scrolled": true
   },
   "outputs": [
    {
     "name": "stdout",
     "output_type": "stream",
     "text": [
      "<class 'pandas.core.frame.DataFrame'>\n",
      "RangeIndex: 463 entries, 0 to 462\n",
      "Data columns (total 12 columns):\n",
      " #   Column                  Non-Null Count  Dtype  \n",
      "---  ------                  --------------  -----  \n",
      " 0   Codigo                  463 non-null    int64  \n",
      " 1   Ciudad                  463 non-null    object \n",
      " 2   Departamento            463 non-null    object \n",
      " 3   Barrio                  40 non-null     object \n",
      " 4   Direccion               463 non-null    object \n",
      " 5   Area Terreno            463 non-null    float64\n",
      " 6   Area Construida         463 non-null    float64\n",
      " 7   Detalle Disponibilidad  463 non-null    object \n",
      " 8   Estrato                 463 non-null    object \n",
      " 9   Precio                  463 non-null    float64\n",
      " 10  Tipo de Inmueble        463 non-null    object \n",
      " 11  Datos Adicionales       118 non-null    object \n",
      "dtypes: float64(3), int64(1), object(8)\n",
      "memory usage: 43.5+ KB\n"
     ]
    }
   ],
   "source": [
    "df.info()"
   ]
  },
  {
   "cell_type": "markdown",
   "id": "21d5952f",
   "metadata": {},
   "source": [
    "como podemos observar el dataset cuenta con un total de 12 columnas y 463 registros.\n",
    "\n",
    "-Columnas numericas \n",
    "\n",
    "Area Terreno \n",
    "Area Construida\n",
    "Precio\n",
    "\n",
    "-Columnas categoricas\n",
    " \n",
    "Ciudad                  \n",
    "Departamento           \n",
    "Barrio                   \n",
    "Direccion               \n",
    "Detalle Disponibilidad   \n",
    "Estrato                 \n",
    "Tipo de Inmueble        \n",
    "Datos Adicionales \n"
   ]
  },
  {
   "cell_type": "code",
   "execution_count": 4,
   "id": "44bba918",
   "metadata": {},
   "outputs": [],
   "source": [
    "#df['Precio'] = df['Precio'].round() \n",
    "#df['Precio'] = df['Precio'].astype(int)\n"
   ]
  },
  {
   "cell_type": "markdown",
   "id": "118b1073",
   "metadata": {},
   "source": [
    "## Identificacion de valores nulos de cada columna"
   ]
  },
  {
   "cell_type": "code",
   "execution_count": 5,
   "id": "ebe4378a",
   "metadata": {
    "scrolled": true
   },
   "outputs": [
    {
     "data": {
      "text/plain": [
       "Codigo                      0\n",
       "Ciudad                      0\n",
       "Departamento                0\n",
       "Barrio                    423\n",
       "Direccion                   0\n",
       "Area Terreno                0\n",
       "Area Construida             0\n",
       "Detalle Disponibilidad      0\n",
       "Estrato                     0\n",
       "Precio                      0\n",
       "Tipo de Inmueble            0\n",
       "Datos Adicionales         345\n",
       "dtype: int64"
      ]
     },
     "execution_count": 5,
     "metadata": {},
     "output_type": "execute_result"
    }
   ],
   "source": [
    "df.isnull().sum()"
   ]
  },
  {
   "cell_type": "markdown",
   "id": "259caf5e",
   "metadata": {},
   "source": [
    "Se puede observar que las variables \"Barrio\" y \"Datos Adicionales\" en su gran mayoria cuentan con valores nulos, por lo cual se procede a eliminar dichas columnas directamente."
   ]
  },
  {
   "cell_type": "markdown",
   "id": "38da6198",
   "metadata": {},
   "source": [
    "**Eliminación de valores nulos**"
   ]
  },
  {
   "cell_type": "code",
   "execution_count": 6,
   "id": "013040bb",
   "metadata": {},
   "outputs": [],
   "source": [
    "df=df.drop([\"Barrio\"], axis=1)\n",
    "df=df.drop([\"Datos Adicionales\"], axis=1)"
   ]
  },
  {
   "cell_type": "markdown",
   "id": "b0db2935",
   "metadata": {},
   "source": [
    "## Identificacion de valores duplicados"
   ]
  },
  {
   "cell_type": "code",
   "execution_count": 7,
   "id": "c924bd05",
   "metadata": {},
   "outputs": [
    {
     "name": "stdout",
     "output_type": "stream",
     "text": [
      " La base de datos tiene 0 valores duplicados.\n"
     ]
    }
   ],
   "source": [
    "dup = df.duplicated().sum() #Análisis de valores duplicados\n",
    "print(\" La base de datos tiene \"+ str(dup) +\" valores duplicados.\")"
   ]
  },
  {
   "cell_type": "markdown",
   "id": "8d12a7dc",
   "metadata": {},
   "source": [
    "## Conteo de valores Cero"
   ]
  },
  {
   "cell_type": "code",
   "execution_count": 8,
   "id": "cbe33d9e",
   "metadata": {
    "scrolled": true
   },
   "outputs": [
    {
     "data": {
      "image/png": "[encoded data removed]",
      "text/plain": [
       "<Figure size 1080x360 with 1 Axes>"
      ]
     },
     "metadata": {
      "needs_background": "light"
     },
     "output_type": "display_data"
    },
    {
     "name": "stdout",
     "output_type": "stream",
     "text": [
      "Codigo                      0\n",
      "Ciudad                      0\n",
      "Departamento                0\n",
      "Direccion                   0\n",
      "Area Terreno              445\n",
      "Area Construida           453\n",
      "Detalle Disponibilidad      0\n",
      "Estrato                     0\n",
      "Precio                      0\n",
      "Tipo de Inmueble            0\n",
      "dtype: int64\n"
     ]
    }
   ],
   "source": [
    "Cero_Cont = (df==0).sum()\n",
    "Cero_Cont.plot(kind= \"bar\", figsize=(15, 5))\n",
    "plt.show()\n",
    "print(Cero_Cont)"
   ]
  },
  {
   "cell_type": "markdown",
   "id": "240ecfc3",
   "metadata": {},
   "source": [
    "Se puede observar que las variables \"Area Terreno\" y \"Area Construida\" en su gran mayoria tienen valores en cero, por lo cual se procede a eliminarlas."
   ]
  },
  {
   "cell_type": "markdown",
   "id": "404e78a2",
   "metadata": {},
   "source": [
    "**Eliminación de valores en cero**"
   ]
  },
  {
   "cell_type": "code",
   "execution_count": 9,
   "id": "e730238c",
   "metadata": {},
   "outputs": [],
   "source": [
    "df=df.drop([\"Area Terreno\"], axis=1)\n",
    "df=df.drop([\"Area Construida\"], axis=1)"
   ]
  },
  {
   "cell_type": "markdown",
   "id": "f8de5f23",
   "metadata": {},
   "source": [
    "#### El dataset queda de la siguiente manera"
   ]
  },
  {
   "cell_type": "code",
   "execution_count": 10,
   "id": "c1275522",
   "metadata": {
    "scrolled": true
   },
   "outputs": [
    {
     "name": "stdout",
     "output_type": "stream",
     "text": [
      "<class 'pandas.core.frame.DataFrame'>\n",
      "RangeIndex: 463 entries, 0 to 462\n",
      "Data columns (total 8 columns):\n",
      " #   Column                  Non-Null Count  Dtype  \n",
      "---  ------                  --------------  -----  \n",
      " 0   Codigo                  463 non-null    int64  \n",
      " 1   Ciudad                  463 non-null    object \n",
      " 2   Departamento            463 non-null    object \n",
      " 3   Direccion               463 non-null    object \n",
      " 4   Detalle Disponibilidad  463 non-null    object \n",
      " 5   Estrato                 463 non-null    object \n",
      " 6   Precio                  463 non-null    float64\n",
      " 7   Tipo de Inmueble        463 non-null    object \n",
      "dtypes: float64(1), int64(1), object(6)\n",
      "memory usage: 29.1+ KB\n"
     ]
    }
   ],
   "source": [
    "df.info()"
   ]
  },
  {
   "cell_type": "markdown",
   "id": "106a3cc7",
   "metadata": {},
   "source": [
    "## reporte estadístico "
   ]
  },
  {
   "cell_type": "code",
   "execution_count": 11,
   "id": "01ef8ecd",
   "metadata": {},
   "outputs": [
    {
     "data": {
      "text/html": [
       "<div>\n",
       "<style scoped>\n",
       "    .dataframe tbody tr th:only-of-type {\n",
       "        vertical-align: middle;\n",
       "    }\n",
       "\n",
       "    .dataframe tbody tr th {\n",
       "        vertical-align: top;\n",
       "    }\n",
       "\n",
       "    .dataframe thead th {\n",
       "        text-align: right;\n",
       "    }\n",
       "</style>\n",
       "<table border=\"1\" class=\"dataframe\">\n",
       "  <thead>\n",
       "    <tr style=\"text-align: right;\">\n",
       "      <th></th>\n",
       "      <th>Codigo</th>\n",
       "      <th>Precio</th>\n",
       "    </tr>\n",
       "  </thead>\n",
       "  <tbody>\n",
       "    <tr>\n",
       "      <th>count</th>\n",
       "      <td>463.000000</td>\n",
       "      <td>4.630000e+02</td>\n",
       "    </tr>\n",
       "    <tr>\n",
       "      <th>mean</th>\n",
       "      <td>18003.151188</td>\n",
       "      <td>6.672032e+08</td>\n",
       "    </tr>\n",
       "    <tr>\n",
       "      <th>std</th>\n",
       "      <td>1992.191499</td>\n",
       "      <td>3.272992e+09</td>\n",
       "    </tr>\n",
       "    <tr>\n",
       "      <th>min</th>\n",
       "      <td>2575.000000</td>\n",
       "      <td>4.650000e+06</td>\n",
       "    </tr>\n",
       "    <tr>\n",
       "      <th>25%</th>\n",
       "      <td>18184.500000</td>\n",
       "      <td>1.230500e+07</td>\n",
       "    </tr>\n",
       "    <tr>\n",
       "      <th>50%</th>\n",
       "      <td>18332.000000</td>\n",
       "      <td>1.587000e+07</td>\n",
       "    </tr>\n",
       "    <tr>\n",
       "      <th>75%</th>\n",
       "      <td>18539.500000</td>\n",
       "      <td>1.379955e+08</td>\n",
       "    </tr>\n",
       "    <tr>\n",
       "      <th>max</th>\n",
       "      <td>19344.000000</td>\n",
       "      <td>4.523379e+10</td>\n",
       "    </tr>\n",
       "  </tbody>\n",
       "</table>\n",
       "</div>"
      ],
      "text/plain": [
       "             Codigo        Precio\n",
       "count    463.000000  4.630000e+02\n",
       "mean   18003.151188  6.672032e+08\n",
       "std     1992.191499  3.272992e+09\n",
       "min     2575.000000  4.650000e+06\n",
       "25%    18184.500000  1.230500e+07\n",
       "50%    18332.000000  1.587000e+07\n",
       "75%    18539.500000  1.379955e+08\n",
       "max    19344.000000  4.523379e+10"
      ]
     },
     "execution_count": 11,
     "metadata": {},
     "output_type": "execute_result"
    }
   ],
   "source": [
    "df.describe()"
   ]
  },
  {
   "cell_type": "markdown",
   "id": "40806b89",
   "metadata": {},
   "source": [
    "#### boxplot para el precio"
   ]
  },
  {
   "cell_type": "code",
   "execution_count": 12,
   "id": "ad333353",
   "metadata": {},
   "outputs": [
    {
     "data": {
      "image/png": "[encoded data removed]",
      "text/plain": [
       "<Figure size 432x288 with 1 Axes>"
      ]
     },
     "metadata": {
      "needs_background": "light"
     },
     "output_type": "display_data"
    }
   ],
   "source": [
    "plt.boxplot(df['Precio'])\n",
    "plt.title(\"Precio\")\n",
    "plt.show()"
   ]
  },
  {
   "cell_type": "markdown",
   "id": "5bacae7f",
   "metadata": {},
   "source": [
    "## Análisis de resultados y conclusiones"
   ]
  },
  {
   "cell_type": "code",
   "execution_count": 13,
   "id": "73c2e759",
   "metadata": {},
   "outputs": [
    {
     "name": "stderr",
     "output_type": "stream",
     "text": [
      "C:\\ProgramData\\Anaconda3\\lib\\site-packages\\seaborn\\distributions.py:2619: FutureWarning: `distplot` is a deprecated function and will be removed in a future version. Please adapt your code to use either `displot` (a figure-level function with similar flexibility) or `histplot` (an axes-level function for histograms).\n",
      "  warnings.warn(msg, FutureWarning)\n"
     ]
    },
    {
     "data": {
      "image/png": "[encoded data removed]",
      "text/plain": [
       "<Figure size 1080x360 with 1 Axes>"
      ]
     },
     "metadata": {
      "needs_background": "light"
     },
     "output_type": "display_data"
    },
    {
     "name": "stdout",
     "output_type": "stream",
     "text": [
      "count    4.630000e+02\n",
      "mean     6.672032e+08\n",
      "std      3.272992e+09\n",
      "min      4.650000e+06\n",
      "25%      1.230500e+07\n",
      "50%      1.587000e+07\n",
      "75%      1.379955e+08\n",
      "max      4.523379e+10\n",
      "Name: Precio, dtype: float64\n"
     ]
    }
   ],
   "source": [
    "tag1= \"Precio\"\n",
    "plt.figure(figsize=(15, 5))\n",
    "sns.distplot(df[tag1], kde_kws= {\"color\":\"r\"})\n",
    "plt.show()\n",
    "print(df[tag1].describe())"
   ]
  },
  {
   "cell_type": "code",
   "execution_count": 26,
   "id": "d8d50b8a",
   "metadata": {},
   "outputs": [
    {
     "data": {
      "text/html": [
       "<div>\n",
       "<style scoped>\n",
       "    .dataframe tbody tr th:only-of-type {\n",
       "        vertical-align: middle;\n",
       "    }\n",
       "\n",
       "    .dataframe tbody tr th {\n",
       "        vertical-align: top;\n",
       "    }\n",
       "\n",
       "    .dataframe thead th {\n",
       "        text-align: right;\n",
       "    }\n",
       "</style>\n",
       "<table border=\"1\" class=\"dataframe\">\n",
       "  <thead>\n",
       "    <tr style=\"text-align: right;\">\n",
       "      <th></th>\n",
       "      <th>Codigo</th>\n",
       "      <th>Precio</th>\n",
       "    </tr>\n",
       "  </thead>\n",
       "  <tbody>\n",
       "    <tr>\n",
       "      <th>Codigo</th>\n",
       "      <td>1.000000</td>\n",
       "      <td>-0.259612</td>\n",
       "    </tr>\n",
       "    <tr>\n",
       "      <th>Precio</th>\n",
       "      <td>-0.259612</td>\n",
       "      <td>1.000000</td>\n",
       "    </tr>\n",
       "  </tbody>\n",
       "</table>\n",
       "</div>"
      ],
      "text/plain": [
       "          Codigo    Precio\n",
       "Codigo  1.000000 -0.259612\n",
       "Precio -0.259612  1.000000"
      ]
     },
     "execution_count": 26,
     "metadata": {},
     "output_type": "execute_result"
    },
    {
     "data": {
      "image/png": "[encoded data removed]",
      "text/plain": [
       "<Figure size 864x432 with 2 Axes>"
      ]
     },
     "metadata": {
      "needs_background": "light"
     },
     "output_type": "display_data"
    }
   ],
   "source": [
    "#Ejecución de la matriz de correlación y una heatmap\n",
    "plt.figure(figsize=(12,6))\n",
    "cor = df.corr() #validando eliminiación outliers\n",
    "sns.heatmap(cor,cmap=\"jet\",annot=True)\n",
    "cor"
   ]
  },
  {
   "cell_type": "code",
   "execution_count": null,
   "id": "fea524d2",
   "metadata": {},
   "outputs": [],
   "source": []
  }
 ],
 "metadata": {
  "kernelspec": {
   "display_name": "Python 3 (ipykernel)",
   "language": "python",
   "name": "python3"
  },
  "language_info": {
   "codemirror_mode": {
    "name": "ipython",
    "version": 3
   },
   "file_extension": ".py",
   "mimetype": "text/x-python",
   "name": "python",
   "nbconvert_exporter": "python",
   "pygments_lexer": "ipython3",
   "version": "3.9.12"
  }
 },
 "nbformat": 4,
 "nbformat_minor": 5
}
